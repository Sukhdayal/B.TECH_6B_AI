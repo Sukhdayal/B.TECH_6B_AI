{
 "cells": [
  {
   "cell_type": "markdown",
   "id": "ec72071f",
   "metadata": {},
   "source": [
    "### Title: **Write a Program to Conduct Game Search**"
   ]
  },
  {
   "cell_type": "markdown",
   "id": "5d191f2d",
   "metadata": {},
   "source": [
    "### Objective: To develop a Python program that uses the minimax algorithm to determine the best move in a game of Tic-Tac-Toe."
   ]
  },
  {
   "cell_type": "markdown",
   "id": "b0d3496b",
   "metadata": {},
   "source": [
    "### Theory\n",
    "The minimax algorithm is a recursive or backtracking algorithm used in decision-making and game theory. It provides an optimal move for a player assuming that the opponent is also playing optimally. As its name suggests, the minimax algorithm seeks to minimize the maximum possible loss. In the context of games like Tic-Tac-Toe, it involves players taking turns to maximize their chances of winning while minimizing the opponent's chances.\n",
    "\n",
    "In a typical setting where two players play the game, one player is considered the maximizer, and the other is the minimizer. Each player evaluates the game board's state to determine the outcome of possible moves and chooses the strategy that either maximizes their advantage or minimizes their losses depending on their role."
   ]
  },
  {
   "cell_type": "markdown",
   "id": "2e24e993",
   "metadata": {},
   "source": [
    "### Materials/Tools Required\n",
    "- Python 3.x installed on a computer\n",
    "- Text editor or Integrated Development Environment (IDE) like PyCharm, Visual Studio Code, or Jupyter Notebook"
   ]
  },
  {
   "cell_type": "markdown",
   "id": "6798e918",
   "metadata": {},
   "source": [
    "### Procedure\n",
    "1. Open your Python development environment.\n",
    "2. Type the provided code into the editor.\n",
    "3. Save the file with a `.py` extension, for example, `tic_tac_toe_minimax.py`.\n",
    "4. Run the program in your development environment to see the output.\n",
    "5. Observe how the algorithm decides the best move for the 'X' player based on the given game state."
   ]
  },
  {
   "cell_type": "code",
   "execution_count": 1,
   "id": "64667ae7",
   "metadata": {},
   "outputs": [
    {
     "name": "stdout",
     "output_type": "stream",
     "text": [
      "Best move for X is at index 0\n"
     ]
    }
   ],
   "source": [
    "### Python Program Code\n",
    "def is_winner(board, player):\n",
    "    win_conditions = [\n",
    "        [board[0], board[1], board[2]],\n",
    "        [board[3], board[4], board[5]],\n",
    "        [board[6], board[7], board[8]],\n",
    "        [board[0], board[3], board[6]],\n",
    "        [board[1], board[4], board[7]],\n",
    "        [board[2], board[5], board[8]],\n",
    "        [board[0], board[4], board[8]],\n",
    "        [board[2], board[4], board[6]]\n",
    "    ]\n",
    "    return [player, player, player] in win_conditions\n",
    "\n",
    "def get_available_moves(board):\n",
    "    return [i for i, x in enumerate(board) if x is None]\n",
    "\n",
    "def minimax(board, depth, is_maximizing, player, opponent):\n",
    "    if is_winner(board, player):\n",
    "        return 10 - depth\n",
    "    if is_winner(board, opponent):\n",
    "        return depth - 10\n",
    "    if not get_available_moves(board):\n",
    "        return 0\n",
    "    \n",
    "    if is_maximizing:\n",
    "        best_score = -float('inf')\n",
    "        for move in get_available_moves(board):\n",
    "            board[move] = player\n",
    "            score = minimax(board, depth + 1, False, player, opponent)\n",
    "            board[move] = None\n",
    "            best_score = max(score, best_score)\n",
    "        return best_score\n",
    "    else:\n",
    "        best_score = float('inf')\n",
    "        for move in get_available_moves(board):\n",
    "            board[move] = opponent\n",
    "            score = minimax(board, depth + 1, True, player, opponent)\n",
    "            board[move] = None\n",
    "            best_score = min(score, best_score)\n",
    "        return best_score\n",
    "\n",
    "def best_move(board, player, opponent):\n",
    "    best_score = -float('inf')\n",
    "    move = None\n",
    "    for i in get_available_moves(board):\n",
    "        board[i] = player\n",
    "        score = minimax(board, 0, False, player, opponent)\n",
    "        board[i] = None\n",
    "        if score > best_score:\n",
    "            best_score = score\n",
    "            move = i\n",
    "    return move\n",
    "\n",
    "# Example board with some moves already made\n",
    "board = [None, None, None,\n",
    "         None, 'X', None,\n",
    "         None, None, None]\n",
    "\n",
    "# Player 'X' is maximizing; player 'O' is minimizing\n",
    "player = 'X'\n",
    "opponent = 'O'\n",
    "move = best_move(board, player, opponent)\n",
    "print(f\"Best move for {player} is at index {move}\")"
   ]
  },
  {
   "cell_type": "markdown",
   "id": "f1c8232b",
   "metadata": {},
   "source": [
    "### Observations\n",
    "- After running the program, observe the console output that indicates the best move for player 'X'.\n",
    "- Note how the AI evaluates all possible outcomes to ensure the best strategic move is chosen."
   ]
  },
  {
   "cell_type": "markdown",
   "id": "bde2ca7f",
   "metadata": {},
   "source": [
    "### Conclusion\n",
    "The minimax algorithm effectively makes optimal decisions in zero-sum games like Tic-Tac-Toe, where one player's gain is equivalent to another's loss. By simulating all possible moves in the game and their outcomes, the algorithm can decide the best possible move that leads to a win or a draw, preventing losses when played optimally."
   ]
  },
  {
   "cell_type": "markdown",
   "id": "2f2c999b",
   "metadata": {},
   "source": [
    "### Applications\n",
    "- Artificial intelligence in games\n",
    "- Decision-making applications\n",
    "- Strategic planning tools in business and military applications"
   ]
  },
  {
   "cell_type": "code",
   "execution_count": null,
   "id": "470a501c",
   "metadata": {},
   "outputs": [],
   "source": []
  }
 ],
 "metadata": {
  "kernelspec": {
   "display_name": "Python 3 (ipykernel)",
   "language": "python",
   "name": "python3"
  },
  "language_info": {
   "codemirror_mode": {
    "name": "ipython",
    "version": 3
   },
   "file_extension": ".py",
   "mimetype": "text/x-python",
   "name": "python",
   "nbconvert_exporter": "python",
   "pygments_lexer": "ipython3",
   "version": "3.11.3"
  }
 },
 "nbformat": 4,
 "nbformat_minor": 5
}
