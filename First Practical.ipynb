{
 "cells": [
  {
   "cell_type": "markdown",
   "id": "b6940e4e",
   "metadata": {},
   "source": [
    "# Title: **Write a Program to Conduct Uninformed and Informed Search**"
   ]
  },
  {
   "cell_type": "markdown",
   "id": "5aaf9d8c",
   "metadata": {},
   "source": [
    "## Objective: To develop a Python program that demonstrates both uninformed and informed search strategies in solving search problems. The practical will cover Breadth-First Search (BFS) as an example of uninformed search and A* Search as an example of informed search."
   ]
  },
  {
   "cell_type": "markdown",
   "id": "1e9c55a3",
   "metadata": {},
   "source": [
    "### Theory\n",
    "**Uninformed Search** algorithms, also known as blind search, do not have additional information about states beyond that provided in the problem definition. These methods explore the search space without knowledge of the goal's location. Breadth-First Search (BFS) is a typical uninformed search technique that explores the graph level by level.\n",
    "\n",
    "**Informed Search** algorithms utilize heuristics to estimate the cost of a solution path and are more efficient than uninformed strategies. A* Search is one of the most popular informed search algorithms. It uses a heuristic function to guide itself towards the goal state more efficiently by evaluating paths based on their cost and estimated cost to reach the goal."
   ]
  },
  {
   "cell_type": "markdown",
   "id": "32830f54",
   "metadata": {},
   "source": [
    "### Materials/Tools Required\n",
    "- Python 3.x installed on a computer\n",
    "- Python libraries: `queue` for BFS, `heapq` for A* Search\n",
    "- Text editor or Integrated Development Environment (IDE) such as PyCharm, Visual Studio Code, or Jupyter Notebook"
   ]
  },
  {
   "cell_type": "markdown",
   "id": "654ff5f3",
   "metadata": {},
   "source": [
    "### Procedure\n",
    "1. Open your Python development environment.\n",
    "2. Type the provided code into the editor.\n",
    "3. Save the file with a `.py` extension, for example, `search_algorithms.py`.\n",
    "4. Run the program and observe the outputs of both BFS and A* Search algorithms."
   ]
  },
  {
   "cell_type": "code",
   "execution_count": 1,
   "id": "b99c5c91",
   "metadata": {},
   "outputs": [
    {
     "name": "stdout",
     "output_type": "stream",
     "text": [
      "BFS Path: [1, 10]\n",
      "A* Path: [1, 10]\n"
     ]
    }
   ],
   "source": [
    "### Python Program Code\n",
    "\n",
    "import queue\n",
    "import heapq\n",
    "\n",
    "class State:\n",
    "    def __init__(self, value, parent, start=0, goal=0):\n",
    "        self.children = []\n",
    "        self.parent = parent\n",
    "        self.value = value\n",
    "        self.dist = 0  # Cost to reach this state\n",
    "        if parent:\n",
    "            self.path = parent.path[:]\n",
    "            self.path.append(value)\n",
    "            self.start = parent.start\n",
    "            self.goal = parent.goal\n",
    "        else:\n",
    "            self.path = [value]\n",
    "            self.start = start\n",
    "            self.goal = goal\n",
    "\n",
    "    def get_dist(self):\n",
    "        pass  # This method should be implemented in specific search class\n",
    "\n",
    "    def create_children(self):\n",
    "        pass  # This method should be implemented in specific search class\n",
    "\n",
    "class BFS(State):\n",
    "    def __init__(self, value, parent, start=0, goal=0):\n",
    "        super().__init__(value, parent, start, goal)\n",
    "        self.dist = self.get_dist()\n",
    "\n",
    "    def get_dist(self):\n",
    "        return len(self.path)\n",
    "\n",
    "    def create_children(self):\n",
    "        if not self.children:\n",
    "            for i in range(1, self.goal + 1):\n",
    "                v = self.value + i\n",
    "                if v <= self.goal:\n",
    "                    child = BFS(v, self, self.start, self.goal)\n",
    "                    self.children.append(child)\n",
    "\n",
    "class AStar(State):\n",
    "    def __init__(self, value, parent, start=0, goal=0):\n",
    "        super().__init__(value, parent, start, goal)\n",
    "        self.dist = self.get_dist()\n",
    "\n",
    "    def get_dist(self):\n",
    "        return len(self.path) + self.heuristic()\n",
    "\n",
    "    def heuristic(self):\n",
    "        return abs(self.goal - self.value)\n",
    "\n",
    "    def create_children(self):\n",
    "        if not self.children:\n",
    "            for i in range(1, self.goal + 1):\n",
    "                v = self.value + i\n",
    "                if v <= self.goal:\n",
    "                    child = AStar(v, self, self.start, self.goal)\n",
    "                    self.children.append(child)\n",
    "\n",
    "def bfs(start, goal):\n",
    "    open_list = queue.Queue()\n",
    "    start_node = BFS(start, None, start, goal)\n",
    "    open_list.put(start_node)\n",
    "    while not open_list.empty():\n",
    "        current_node = open_list.get()\n",
    "        if current_node.value == goal:\n",
    "            return current_node.path\n",
    "        current_node.create_children()\n",
    "        for child in current_node.children:\n",
    "            open_list.put(child)\n",
    "\n",
    "def astar(start, goal):\n",
    "    open_list = []\n",
    "    start_node = AStar(start, None, start, goal)\n",
    "    heapq.heappush(open_list, (start_node.dist, start_node))\n",
    "    while open_list:\n",
    "        current_node = heapq.heappop(open_list)[1]\n",
    "        if current_node.value == goal:\n",
    "            return current_node.path\n",
    "        current_node.create_children()\n",
    "        for child in current_node.children:\n",
    "            heapq.heappush(open_list, (child.dist, child))\n",
    "\n",
    "# Example usage\n",
    "bfs_path = bfs(1, 10)  # Perform BFS search from 1 to 10\n",
    "astar_path = astar(1, 10)  # Perform A* search from 1 to 10\n",
    "\n",
    "print(\"BFS Path:\", bfs_path)\n",
    "print(\"A* Path:\", astar_path)"
   ]
  },
  {
   "cell_type": "markdown",
   "id": "6dbc14b7",
   "metadata": {},
   "source": [
    "### Observations\n",
    "- Observe how both BFS and A* search strategies navigate the state space to find the solution.\n",
    "- Note the efficiency and path quality differences between uninformed and informed search methods."
   ]
  },
  {
   "cell_type": "markdown",
   "id": "e820072f",
   "metadata": {},
   "source": [
    "### Conclusion\n",
    "Uninformed and informed searches are fundamental to solving complex problems where the path to the goal is not directly visible. BFS explores without prior knowledge, while A* utilizes heuristics to optimize the search process."
   ]
  },
  {
   "cell_type": "markdown",
   "id": "ed18221d",
   "metadata": {},
   "source": [
    "### Applications\n",
    "- Pathfinding in maps and games\n",
    "- Puzzle solving (e.g., 8-puzzle, Sudoku)\n",
    "- Robotics motion planning"
   ]
  }
 ],
 "metadata": {
  "kernelspec": {
   "display_name": "Python 3 (ipykernel)",
   "language": "python",
   "name": "python3"
  },
  "language_info": {
   "codemirror_mode": {
    "name": "ipython",
    "version": 3
   },
   "file_extension": ".py",
   "mimetype": "text/x-python",
   "name": "python",
   "nbconvert_exporter": "python",
   "pygments_lexer": "ipython3",
   "version": "3.11.3"
  }
 },
 "nbformat": 4,
 "nbformat_minor": 5
}
