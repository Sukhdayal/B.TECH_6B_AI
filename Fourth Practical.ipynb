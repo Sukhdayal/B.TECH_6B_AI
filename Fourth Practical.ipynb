{
 "cells": [
  {
   "cell_type": "markdown",
   "id": "4819e460",
   "metadata": {},
   "source": [
    "# Title: **Write a Program to Infer from a Bayesian Network**"
   ]
  },
  {
   "cell_type": "markdown",
   "id": "e5ab712b",
   "metadata": {},
   "source": [
    "## Objective:To develop a Python program that performs inference on a Bayesian Network, demonstrating the application of probabilistic reasoning to derive conclusions from known data."
   ]
  },
  {
   "cell_type": "markdown",
   "id": "a39be572",
   "metadata": {},
   "source": [
    "### Theory\n",
    "Inference in Bayesian Networks involves calculating the posterior probabilities of a set of query variables given some observed evidence. This task is fundamental in many applications where decisions must be made under uncertainty. Bayesian inference uses the network structure and the conditional probability distributions (CPDs) to compute the likelihood of outcomes."
   ]
  },
  {
   "cell_type": "markdown",
   "id": "07f3cb09",
   "metadata": {},
   "source": [
    "### Materials/Tools Required\n",
    "- Python 3.x installed on a computer\n",
    "- Python libraries: `pandas`, `pgmpy`\n",
    "- Text editor or Integrated Development Environment (IDE) like PyCharm, Visual Studio Code, or Jupyter Notebook"
   ]
  },
  {
   "cell_type": "markdown",
   "id": "1f59a3a4",
   "metadata": {},
   "source": [
    "### Procedure\n",
    "1. Ensure Python and the required libraries (`pandas` and `pgmpy`) are installed:\n",
    "   ```bash\n",
    "   pip install pandas pgmpy\n",
    "   ```\n",
    "2. Open your Python development environment.\n",
    "3. Type the provided code into the editor.\n",
    "4. Save the file with a `.py` extension, for example, `infer_bayesian_network.py`.\n",
    "5. Run the program to perform inference and observe the output."
   ]
  },
  {
   "cell_type": "code",
   "execution_count": 2,
   "id": "4a2e8f64",
   "metadata": {
    "collapsed": true
   },
   "outputs": [
    {
     "name": "stdout",
     "output_type": "stream",
     "text": [
      "Defaulting to user installation because normal site-packages is not writeable\n",
      "Requirement already satisfied: pandas in c:\\programdata\\anaconda3\\lib\\site-packages (1.5.3)\n",
      "Collecting pgmpy\n",
      "  Using cached pgmpy-0.1.26-py3-none-any.whl (2.0 MB)\n",
      "Requirement already satisfied: python-dateutil>=2.8.1 in c:\\programdata\\anaconda3\\lib\\site-packages (from pandas) (2.8.2)\n",
      "Requirement already satisfied: pytz>=2020.1 in c:\\programdata\\anaconda3\\lib\\site-packages (from pandas) (2022.7)\n",
      "Requirement already satisfied: numpy>=1.21.0 in c:\\programdata\\anaconda3\\lib\\site-packages (from pandas) (1.24.3)\n",
      "Requirement already satisfied: networkx in c:\\programdata\\anaconda3\\lib\\site-packages (from pgmpy) (2.8.4)\n",
      "Requirement already satisfied: scipy in c:\\programdata\\anaconda3\\lib\\site-packages (from pgmpy) (1.10.1)\n",
      "Requirement already satisfied: scikit-learn in c:\\programdata\\anaconda3\\lib\\site-packages (from pgmpy) (1.2.2)\n",
      "Requirement already satisfied: pyparsing in c:\\programdata\\anaconda3\\lib\\site-packages (from pgmpy) (3.0.9)\n",
      "Requirement already satisfied: torch in c:\\users\\lenovo\\appdata\\roaming\\python\\python311\\site-packages (from pgmpy) (2.6.0)\n",
      "Requirement already satisfied: statsmodels in c:\\programdata\\anaconda3\\lib\\site-packages (from pgmpy) (0.13.5)\n",
      "Requirement already satisfied: tqdm in c:\\programdata\\anaconda3\\lib\\site-packages (from pgmpy) (4.65.0)\n",
      "Requirement already satisfied: joblib in c:\\programdata\\anaconda3\\lib\\site-packages (from pgmpy) (1.2.0)\n",
      "Requirement already satisfied: opt-einsum in c:\\users\\lenovo\\appdata\\roaming\\python\\python311\\site-packages (from pgmpy) (3.4.0)\n",
      "Requirement already satisfied: xgboost in c:\\users\\lenovo\\appdata\\roaming\\python\\python311\\site-packages (from pgmpy) (2.1.1)\n",
      "Collecting google-generativeai (from pgmpy)\n",
      "  Using cached google_generativeai-0.8.4-py3-none-any.whl (175 kB)\n",
      "Requirement already satisfied: six>=1.5 in c:\\programdata\\anaconda3\\lib\\site-packages (from python-dateutil>=2.8.1->pandas) (1.16.0)\n",
      "Collecting google-ai-generativelanguage==0.6.15 (from google-generativeai->pgmpy)\n",
      "  Using cached google_ai_generativelanguage-0.6.15-py3-none-any.whl (1.3 MB)\n",
      "Collecting google-api-core (from google-generativeai->pgmpy)\n",
      "  Using cached google_api_core-2.24.1-py3-none-any.whl (160 kB)\n",
      "Collecting google-api-python-client (from google-generativeai->pgmpy)\n",
      "  Using cached google_api_python_client-2.160.0-py2.py3-none-any.whl (12.8 MB)\n",
      "Collecting google-auth>=2.15.0 (from google-generativeai->pgmpy)\n",
      "  Using cached google_auth-2.38.0-py2.py3-none-any.whl (210 kB)\n",
      "Requirement already satisfied: protobuf in c:\\users\\lenovo\\appdata\\roaming\\python\\python311\\site-packages (from google-generativeai->pgmpy) (5.29.3)\n",
      "Requirement already satisfied: pydantic in c:\\users\\lenovo\\appdata\\roaming\\python\\python311\\site-packages (from google-generativeai->pgmpy) (2.6.1)\n",
      "Requirement already satisfied: typing-extensions in c:\\users\\lenovo\\appdata\\roaming\\python\\python311\\site-packages (from google-generativeai->pgmpy) (4.11.0)\n",
      "Collecting proto-plus<2.0.0dev,>=1.22.3 (from google-ai-generativelanguage==0.6.15->google-generativeai->pgmpy)\n",
      "  Using cached proto_plus-1.26.0-py3-none-any.whl (50 kB)\n",
      "Requirement already satisfied: threadpoolctl>=2.0.0 in c:\\programdata\\anaconda3\\lib\\site-packages (from scikit-learn->pgmpy) (2.2.0)\n",
      "Requirement already satisfied: patsy>=0.5.2 in c:\\programdata\\anaconda3\\lib\\site-packages (from statsmodels->pgmpy) (0.5.3)\n",
      "Requirement already satisfied: packaging>=21.3 in c:\\programdata\\anaconda3\\lib\\site-packages (from statsmodels->pgmpy) (23.0)\n",
      "Requirement already satisfied: filelock in c:\\programdata\\anaconda3\\lib\\site-packages (from torch->pgmpy) (3.9.0)\n",
      "Requirement already satisfied: jinja2 in c:\\programdata\\anaconda3\\lib\\site-packages (from torch->pgmpy) (3.1.2)\n",
      "Requirement already satisfied: fsspec in c:\\programdata\\anaconda3\\lib\\site-packages (from torch->pgmpy) (2023.3.0)\n",
      "Requirement already satisfied: sympy==1.13.1 in c:\\users\\lenovo\\appdata\\roaming\\python\\python311\\site-packages (from torch->pgmpy) (1.13.1)\n",
      "Requirement already satisfied: mpmath<1.4,>=1.1.0 in c:\\programdata\\anaconda3\\lib\\site-packages (from sympy==1.13.1->torch->pgmpy) (1.2.1)\n",
      "Requirement already satisfied: colorama in c:\\programdata\\anaconda3\\lib\\site-packages (from tqdm->pgmpy) (0.4.6)\n",
      "Requirement already satisfied: cachetools<6.0,>=2.0.0 in c:\\users\\lenovo\\appdata\\roaming\\python\\python311\\site-packages (from google-auth>=2.15.0->google-generativeai->pgmpy) (5.5.1)\n",
      "Requirement already satisfied: pyasn1-modules>=0.2.1 in c:\\programdata\\anaconda3\\lib\\site-packages (from google-auth>=2.15.0->google-generativeai->pgmpy) (0.2.8)\n",
      "Requirement already satisfied: rsa<5,>=3.1.4 in c:\\users\\lenovo\\appdata\\roaming\\python\\python311\\site-packages (from google-auth>=2.15.0->google-generativeai->pgmpy) (4.9)\n",
      "Collecting googleapis-common-protos<2.0.dev0,>=1.56.2 (from google-api-core->google-generativeai->pgmpy)\n",
      "  Using cached googleapis_common_protos-1.66.0-py2.py3-none-any.whl (221 kB)\n",
      "Requirement already satisfied: requests<3.0.0.dev0,>=2.18.0 in c:\\programdata\\anaconda3\\lib\\site-packages (from google-api-core->google-generativeai->pgmpy) (2.29.0)\n",
      "Requirement already satisfied: httplib2<1.dev0,>=0.19.0 in c:\\users\\lenovo\\appdata\\roaming\\python\\python311\\site-packages (from google-api-python-client->google-generativeai->pgmpy) (0.22.0)\n",
      "Collecting google-auth-httplib2<1.0.0,>=0.2.0 (from google-api-python-client->google-generativeai->pgmpy)\n",
      "  Using cached google_auth_httplib2-0.2.0-py2.py3-none-any.whl (9.3 kB)\n",
      "Requirement already satisfied: uritemplate<5,>=3.0.1 in c:\\users\\lenovo\\appdata\\roaming\\python\\python311\\site-packages (from google-api-python-client->google-generativeai->pgmpy) (4.1.1)\n",
      "Requirement already satisfied: MarkupSafe>=2.0 in c:\\programdata\\anaconda3\\lib\\site-packages (from jinja2->torch->pgmpy) (2.1.1)\n",
      "Requirement already satisfied: annotated-types>=0.4.0 in c:\\users\\lenovo\\appdata\\roaming\\python\\python311\\site-packages (from pydantic->google-generativeai->pgmpy) (0.6.0)\n",
      "Requirement already satisfied: pydantic-core==2.16.2 in c:\\users\\lenovo\\appdata\\roaming\\python\\python311\\site-packages (from pydantic->google-generativeai->pgmpy) (2.16.2)\n",
      "Requirement already satisfied: grpcio<2.0dev,>=1.33.2 in c:\\users\\lenovo\\appdata\\roaming\\python\\python311\\site-packages (from google-api-core->google-generativeai->pgmpy) (1.70.0)\n",
      "Collecting grpcio-status<2.0.dev0,>=1.33.2 (from google-api-core->google-generativeai->pgmpy)\n",
      "  Using cached grpcio_status-1.70.0-py3-none-any.whl (14 kB)\n",
      "Requirement already satisfied: pyasn1<0.5.0,>=0.4.6 in c:\\programdata\\anaconda3\\lib\\site-packages (from pyasn1-modules>=0.2.1->google-auth>=2.15.0->google-generativeai->pgmpy) (0.4.8)\n",
      "Requirement already satisfied: charset-normalizer<4,>=2 in c:\\programdata\\anaconda3\\lib\\site-packages (from requests<3.0.0.dev0,>=2.18.0->google-api-core->google-generativeai->pgmpy) (2.0.4)\n",
      "Requirement already satisfied: idna<4,>=2.5 in c:\\programdata\\anaconda3\\lib\\site-packages (from requests<3.0.0.dev0,>=2.18.0->google-api-core->google-generativeai->pgmpy) (3.4)\n",
      "Requirement already satisfied: urllib3<1.27,>=1.21.1 in c:\\programdata\\anaconda3\\lib\\site-packages (from requests<3.0.0.dev0,>=2.18.0->google-api-core->google-generativeai->pgmpy) (1.26.16)\n",
      "Requirement already satisfied: certifi>=2017.4.17 in c:\\programdata\\anaconda3\\lib\\site-packages (from requests<3.0.0.dev0,>=2.18.0->google-api-core->google-generativeai->pgmpy) (2023.5.7)\n",
      "Installing collected packages: proto-plus, googleapis-common-protos, grpcio-status, google-auth, google-auth-httplib2, google-api-core, google-api-python-client, google-ai-generativelanguage, google-generativeai, pgmpy\n",
      "Successfully installed google-ai-generativelanguage-0.6.15 google-api-core-2.24.1 google-api-python-client-2.160.0 google-auth-2.38.0 google-auth-httplib2-0.2.0 google-generativeai-0.8.4 googleapis-common-protos-1.66.0 grpcio-status-1.70.0 pgmpy-0.1.26 proto-plus-1.26.0\n",
      "Note: you may need to restart the kernel to use updated packages.\n"
     ]
    }
   ],
   "source": [
    "pip install pandas pgmpy"
   ]
  },
  {
   "cell_type": "code",
   "execution_count": 3,
   "id": "ce274553",
   "metadata": {},
   "outputs": [
    {
     "name": "stderr",
     "output_type": "stream",
     "text": [
      "WARNING:pgmpy:BayesianModel has been renamed to BayesianNetwork. Please use BayesianNetwork class, BayesianModel will be removed in future.\n",
      "WARNING:pgmpy:BayesianModel has been renamed to BayesianNetwork. Please use BayesianNetwork class, BayesianModel will be removed in future.\n",
      "WARNING:pgmpy:BayesianModel has been renamed to BayesianNetwork. Please use BayesianNetwork class, BayesianModel will be removed in future.\n"
     ]
    },
    {
     "name": "stdout",
     "output_type": "stream",
     "text": [
      "+------+----------+\n",
      "| G    |   phi(G) |\n",
      "+======+==========+\n",
      "| G(A) |   0.5000 |\n",
      "+------+----------+\n",
      "| G(B) |   0.0000 |\n",
      "+------+----------+\n",
      "| G(C) |   0.5000 |\n",
      "+------+----------+\n"
     ]
    }
   ],
   "source": [
    "### Python Program Code\n",
    "\n",
    "import pandas as pd\n",
    "from pgmpy.models import BayesianModel\n",
    "from pgmpy.inference import VariableElimination\n",
    "\n",
    "# Example data for the Bayesian Network\n",
    "data = pd.DataFrame(data={'I': ['low', 'low', 'high', 'high'],\n",
    "                          'S': ['good', 'poor', 'good', 'poor'],\n",
    "                          'G': ['A', 'B', 'A', 'C']})\n",
    "\n",
    "# Defining the structure of the Bayesian Network\n",
    "model = BayesianModel([('I', 'G'), ('I', 'S'), ('G', 'S')])\n",
    "\n",
    "# Fitting the model on the data\n",
    "model.fit(data)\n",
    "\n",
    "# Using Variable Elimination for inference\n",
    "infer = VariableElimination(model)\n",
    "\n",
    "# Query the probability of 'G' given evidence 'I' (Intelligence)\n",
    "result = infer.query(variables=['G'], evidence={'I': 'high'})\n",
    "print(result)"
   ]
  },
  {
   "cell_type": "markdown",
   "id": "41954c98",
   "metadata": {},
   "source": [
    "### Observations\n",
    "- After running the program, the output will display the probability distribution of grades ('G') given that the intelligence level ('I') is 'high'.\n",
    "- The result demonstrates how Bayesian inference uses the CPDs and the structure of the network to compute these probabilities."
   ]
  },
  {
   "cell_type": "markdown",
   "id": "83cff1b6",
   "metadata": {},
   "source": [
    "### Conclusion\n",
    "Inference in Bayesian Networks allows for effective decision-making based on the probabilistic relationships defined within the network. This process is crucial in areas like diagnostics, where conclusions must be drawn from uncertain data."
   ]
  },
  {
   "cell_type": "markdown",
   "id": "66c47987",
   "metadata": {},
   "source": [
    "### Applications\n",
    "- Medical diagnostics and decision support systems\n",
    "- Fault diagnosis in engineering systems\n",
    "- Financial forecasting"
   ]
  }
 ],
 "metadata": {
  "kernelspec": {
   "display_name": "Python 3 (ipykernel)",
   "language": "python",
   "name": "python3"
  },
  "language_info": {
   "codemirror_mode": {
    "name": "ipython",
    "version": 3
   },
   "file_extension": ".py",
   "mimetype": "text/x-python",
   "name": "python",
   "nbconvert_exporter": "python",
   "pygments_lexer": "ipython3",
   "version": "3.11.3"
  }
 },
 "nbformat": 4,
 "nbformat_minor": 5
}
