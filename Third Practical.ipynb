{
 "cells": [
  {
   "cell_type": "markdown",
   "id": "e8d3c549",
   "metadata": {},
   "source": [
    "# Title: **Write a Program to Construct a Bayesian Network from Given Data**"
   ]
  },
  {
   "cell_type": "markdown",
   "id": "bb98eab4",
   "metadata": {},
   "source": [
    "## Objective: To develop a Python program that constructs a Bayesian Network using given dataset inputs, demonstrating the use of probabilistic graphical models in representing and reasoning about uncertainties."
   ]
  },
  {
   "cell_type": "markdown",
   "id": "c8c62725",
   "metadata": {},
   "source": [
    "### Theory\n",
    "Bayesian Networks are probabilistic graphical models that represent a set of variables and their conditional dependencies via a directed acyclic graph (DAG). These networks are used extensively in various fields such as bioinformatics, risk management, and machine learning to model uncertain systems and reason about them efficiently.\n",
    "\n",
    "The nodes in a Bayesian Network represent different variables, and the edges depict the conditional dependencies between these variables. By applying Bayesian inference, one can perform reasoning and make predictions based on observed data."
   ]
  },
  {
   "cell_type": "markdown",
   "id": "17356873",
   "metadata": {},
   "source": [
    "### Materials/Tools Required\n",
    "- Python 3.x installed on a computer\n",
    "- Python libraries: `pandas` for data manipulation, `pgmpy` for constructing Bayesian Networks\n",
    "- Text editor or Integrated Development Environment (IDE) like PyCharm, Visual Studio Code, or Jupyter Notebook"
   ]
  },
  {
   "cell_type": "markdown",
   "id": "fa0bd13c",
   "metadata": {},
   "source": [
    "### Procedure\n",
    "1. Install the required Python libraries using pip:\n",
    "   ```bash\n",
    "   pip install pandas pgmpy\n",
    "   ```\n",
    "2. Open your Python development environment.\n",
    "3. Type the provided code into the editor.\n",
    "4. Save the file with a `.py` extension, for example, `construct_bayesian_network.py`.\n",
    "5. Run the program in your development environment.\n",
    "6. Observe how the Bayesian Network is constructed and visualize the network structure."
   ]
  },
  {
   "cell_type": "code",
   "execution_count": 2,
   "id": "f5500837",
   "metadata": {},
   "outputs": [
    {
     "name": "stdout",
     "output_type": "stream",
     "text": [
      "Defaulting to user installation because normal site-packages is not writeable\n",
      "Requirement already satisfied: pandas in c:\\programdata\\anaconda3\\lib\\site-packages (1.5.3)\n",
      "Collecting pgmpy\n",
      "  Using cached pgmpy-0.1.26-py3-none-any.whl (2.0 MB)\n",
      "Requirement already satisfied: python-dateutil>=2.8.1 in c:\\programdata\\anaconda3\\lib\\site-packages (from pandas) (2.8.2)\n",
      "Requirement already satisfied: pytz>=2020.1 in c:\\programdata\\anaconda3\\lib\\site-packages (from pandas) (2022.7)\n",
      "Requirement already satisfied: numpy>=1.21.0 in c:\\programdata\\anaconda3\\lib\\site-packages (from pandas) (1.24.3)\n",
      "Requirement already satisfied: networkx in c:\\programdata\\anaconda3\\lib\\site-packages (from pgmpy) (2.8.4)\n",
      "Requirement already satisfied: scipy in c:\\programdata\\anaconda3\\lib\\site-packages (from pgmpy) (1.10.1)\n",
      "Requirement already satisfied: scikit-learn in c:\\programdata\\anaconda3\\lib\\site-packages (from pgmpy) (1.2.2)\n",
      "Requirement already satisfied: pyparsing in c:\\programdata\\anaconda3\\lib\\site-packages (from pgmpy) (3.0.9)\n",
      "Collecting torch (from pgmpy)\n",
      "  Using cached torch-2.6.0-cp311-cp311-win_amd64.whl (204.2 MB)\n",
      "Requirement already satisfied: statsmodels in c:\\programdata\\anaconda3\\lib\\site-packages (from pgmpy) (0.13.5)\n",
      "Requirement already satisfied: tqdm in c:\\programdata\\anaconda3\\lib\\site-packages (from pgmpy) (4.65.0)\n",
      "Requirement already satisfied: joblib in c:\\programdata\\anaconda3\\lib\\site-packages (from pgmpy) (1.2.0)\n",
      "Collecting opt-einsum (from pgmpy)\n",
      "  Using cached opt_einsum-3.4.0-py3-none-any.whl (71 kB)\n",
      "Requirement already satisfied: xgboost in c:\\users\\lenovo\\appdata\\roaming\\python\\python311\\site-packages (from pgmpy) (2.1.1)\n",
      "Collecting google-generativeai (from pgmpy)\n",
      "  Using cached google_generativeai-0.8.4-py3-none-any.whl (175 kB)\n",
      "Requirement already satisfied: six>=1.5 in c:\\programdata\\anaconda3\\lib\\site-packages (from python-dateutil>=2.8.1->pandas) (1.16.0)\n",
      "Collecting google-ai-generativelanguage==0.6.15 (from google-generativeai->pgmpy)\n",
      "  Using cached google_ai_generativelanguage-0.6.15-py3-none-any.whl (1.3 MB)\n",
      "Collecting google-api-core (from google-generativeai->pgmpy)\n",
      "  Using cached google_api_core-2.24.1-py3-none-any.whl (160 kB)\n",
      "Collecting google-api-python-client (from google-generativeai->pgmpy)\n",
      "  Using cached google_api_python_client-2.160.0-py2.py3-none-any.whl (12.8 MB)\n",
      "Collecting google-auth>=2.15.0 (from google-generativeai->pgmpy)\n",
      "  Using cached google_auth-2.38.0-py2.py3-none-any.whl (210 kB)\n",
      "Collecting protobuf (from google-generativeai->pgmpy)\n",
      "  Using cached protobuf-5.29.3-cp310-abi3-win_amd64.whl (434 kB)\n",
      "Requirement already satisfied: pydantic in c:\\users\\lenovo\\appdata\\roaming\\python\\python311\\site-packages (from google-generativeai->pgmpy) (2.6.1)\n",
      "Requirement already satisfied: typing-extensions in c:\\users\\lenovo\\appdata\\roaming\\python\\python311\\site-packages (from google-generativeai->pgmpy) (4.11.0)\n",
      "Collecting proto-plus<2.0.0dev,>=1.22.3 (from google-ai-generativelanguage==0.6.15->google-generativeai->pgmpy)\n",
      "  Using cached proto_plus-1.26.0-py3-none-any.whl (50 kB)\n",
      "Requirement already satisfied: threadpoolctl>=2.0.0 in c:\\programdata\\anaconda3\\lib\\site-packages (from scikit-learn->pgmpy) (2.2.0)\n",
      "Requirement already satisfied: patsy>=0.5.2 in c:\\programdata\\anaconda3\\lib\\site-packages (from statsmodels->pgmpy) (0.5.3)\n",
      "Requirement already satisfied: packaging>=21.3 in c:\\programdata\\anaconda3\\lib\\site-packages (from statsmodels->pgmpy) (23.0)\n",
      "Requirement already satisfied: filelock in c:\\programdata\\anaconda3\\lib\\site-packages (from torch->pgmpy) (3.9.0)\n",
      "Requirement already satisfied: jinja2 in c:\\programdata\\anaconda3\\lib\\site-packages (from torch->pgmpy) (3.1.2)\n",
      "Requirement already satisfied: fsspec in c:\\programdata\\anaconda3\\lib\\site-packages (from torch->pgmpy) (2023.3.0)\n",
      "Requirement already satisfied: sympy==1.13.1 in c:\\users\\lenovo\\appdata\\roaming\\python\\python311\\site-packages (from torch->pgmpy) (1.13.1)\n",
      "Requirement already satisfied: mpmath<1.4,>=1.1.0 in c:\\programdata\\anaconda3\\lib\\site-packages (from sympy==1.13.1->torch->pgmpy) (1.2.1)\n",
      "Requirement already satisfied: colorama in c:\\programdata\\anaconda3\\lib\\site-packages (from tqdm->pgmpy) (0.4.6)\n",
      "Collecting cachetools<6.0,>=2.0.0 (from google-auth>=2.15.0->google-generativeai->pgmpy)\n",
      "  Using cached cachetools-5.5.1-py3-none-any.whl (9.5 kB)\n",
      "Requirement already satisfied: pyasn1-modules>=0.2.1 in c:\\programdata\\anaconda3\\lib\\site-packages (from google-auth>=2.15.0->google-generativeai->pgmpy) (0.2.8)\n",
      "Collecting rsa<5,>=3.1.4 (from google-auth>=2.15.0->google-generativeai->pgmpy)\n",
      "  Using cached rsa-4.9-py3-none-any.whl (34 kB)\n",
      "Collecting googleapis-common-protos<2.0.dev0,>=1.56.2 (from google-api-core->google-generativeai->pgmpy)\n",
      "  Using cached googleapis_common_protos-1.66.0-py2.py3-none-any.whl (221 kB)\n",
      "Requirement already satisfied: requests<3.0.0.dev0,>=2.18.0 in c:\\programdata\\anaconda3\\lib\\site-packages (from google-api-core->google-generativeai->pgmpy) (2.29.0)\n",
      "Collecting httplib2<1.dev0,>=0.19.0 (from google-api-python-client->google-generativeai->pgmpy)\n",
      "  Using cached httplib2-0.22.0-py3-none-any.whl (96 kB)\n",
      "Collecting google-auth-httplib2<1.0.0,>=0.2.0 (from google-api-python-client->google-generativeai->pgmpy)\n",
      "  Using cached google_auth_httplib2-0.2.0-py2.py3-none-any.whl (9.3 kB)\n",
      "Requirement already satisfied: uritemplate<5,>=3.0.1 in c:\\users\\lenovo\\appdata\\roaming\\python\\python311\\site-packages (from google-api-python-client->google-generativeai->pgmpy) (4.1.1)\n",
      "Requirement already satisfied: MarkupSafe>=2.0 in c:\\programdata\\anaconda3\\lib\\site-packages (from jinja2->torch->pgmpy) (2.1.1)\n",
      "Requirement already satisfied: annotated-types>=0.4.0 in c:\\users\\lenovo\\appdata\\roaming\\python\\python311\\site-packages (from pydantic->google-generativeai->pgmpy) (0.6.0)\n",
      "Requirement already satisfied: pydantic-core==2.16.2 in c:\\users\\lenovo\\appdata\\roaming\\python\\python311\\site-packages (from pydantic->google-generativeai->pgmpy) (2.16.2)\n",
      "Collecting grpcio<2.0dev,>=1.33.2 (from google-api-core->google-generativeai->pgmpy)\n",
      "  Using cached grpcio-1.70.0-cp311-cp311-win_amd64.whl (4.3 MB)\n",
      "Collecting grpcio-status<2.0.dev0,>=1.33.2 (from google-api-core->google-generativeai->pgmpy)\n",
      "  Using cached grpcio_status-1.70.0-py3-none-any.whl (14 kB)\n",
      "Requirement already satisfied: pyasn1<0.5.0,>=0.4.6 in c:\\programdata\\anaconda3\\lib\\site-packages (from pyasn1-modules>=0.2.1->google-auth>=2.15.0->google-generativeai->pgmpy) (0.4.8)\n",
      "Requirement already satisfied: charset-normalizer<4,>=2 in c:\\programdata\\anaconda3\\lib\\site-packages (from requests<3.0.0.dev0,>=2.18.0->google-api-core->google-generativeai->pgmpy) (2.0.4)\n",
      "Requirement already satisfied: idna<4,>=2.5 in c:\\programdata\\anaconda3\\lib\\site-packages (from requests<3.0.0.dev0,>=2.18.0->google-api-core->google-generativeai->pgmpy) (3.4)\n",
      "Requirement already satisfied: urllib3<1.27,>=1.21.1 in c:\\programdata\\anaconda3\\lib\\site-packages (from requests<3.0.0.dev0,>=2.18.0->google-api-core->google-generativeai->pgmpy) (1.26.16)\n",
      "Requirement already satisfied: certifi>=2017.4.17 in c:\\programdata\\anaconda3\\lib\\site-packages (from requests<3.0.0.dev0,>=2.18.0->google-api-core->google-generativeai->pgmpy) (2023.5.7)\n",
      "Installing collected packages: rsa, protobuf, opt-einsum, httplib2, grpcio, cachetools, torch, proto-plus, googleapis-common-protos, google-auth, grpcio-status, google-auth-httplib2, google-api-core, google-api-python-client, google-ai-generativelanguage, google-generativeai, pgmpy\n",
      "Successfully installed cachetools-5.5.1 google-ai-generativelanguage-0.6.15 google-api-core-2.24.1 google-api-python-client-2.160.0 google-auth-2.38.0 google-auth-httplib2-0.2.0 google-generativeai-0.8.4 googleapis-common-protos-1.66.0 grpcio-1.70.0 grpcio-status-1.70.0 httplib2-0.22.0 opt-einsum-3.4.0 pgmpy-0.1.26 proto-plus-1.26.0 protobuf-5.29.3 rsa-4.9 torch-2.6.0\n"
     ]
    }
   ],
   "source": [
    "!pip install pandas pgmpy"
   ]
  },
  {
   "cell_type": "code",
   "execution_count": 3,
   "id": "219c64b3",
   "metadata": {},
   "outputs": [
    {
     "name": "stderr",
     "output_type": "stream",
     "text": [
      "WARNING:pgmpy:BayesianModel has been renamed to BayesianNetwork. Please use BayesianNetwork class, BayesianModel will be removed in future.\n"
     ]
    },
    {
     "name": "stdout",
     "output_type": "stream",
     "text": [
      "CPD of I:\n",
      "+---------+-----+\n",
      "| I(high) | 0.5 |\n",
      "+---------+-----+\n",
      "| I(low)  | 0.5 |\n",
      "+---------+-----+\n",
      "CPD of G:\n",
      "+------+---------+--------+\n",
      "| I    | I(high) | I(low) |\n",
      "+------+---------+--------+\n",
      "| G(A) | 0.5     | 0.5    |\n",
      "+------+---------+--------+\n",
      "| G(B) | 0.0     | 0.5    |\n",
      "+------+---------+--------+\n",
      "| G(C) | 0.5     | 0.0    |\n",
      "+------+---------+--------+\n",
      "CPD of S:\n",
      "+---------+---------+--------+---------+--------+---------+--------+\n",
      "| G       | G(A)    | G(A)   | G(B)    | G(B)   | G(C)    | G(C)   |\n",
      "+---------+---------+--------+---------+--------+---------+--------+\n",
      "| I       | I(high) | I(low) | I(high) | I(low) | I(high) | I(low) |\n",
      "+---------+---------+--------+---------+--------+---------+--------+\n",
      "| S(good) | 1.0     | 1.0    | 0.5     | 0.0    | 0.0     | 0.5    |\n",
      "+---------+---------+--------+---------+--------+---------+--------+\n",
      "| S(poor) | 0.0     | 0.0    | 0.5     | 1.0    | 1.0     | 0.5    |\n",
      "+---------+---------+--------+---------+--------+---------+--------+\n"
     ]
    },
    {
     "ename": "ModuleNotFoundError",
     "evalue": "No module named 'pgmpy.visualization'",
     "output_type": "error",
     "traceback": [
      "\u001b[1;31m---------------------------------------------------------------------------\u001b[0m",
      "\u001b[1;31mModuleNotFoundError\u001b[0m                       Traceback (most recent call last)",
      "Cell \u001b[1;32mIn[3], line 25\u001b[0m\n\u001b[0;32m     22\u001b[0m     \u001b[38;5;28mprint\u001b[39m(cpd)\n\u001b[0;32m     24\u001b[0m \u001b[38;5;66;03m# Optional: visualize the network\u001b[39;00m\n\u001b[1;32m---> 25\u001b[0m \u001b[38;5;28;01mfrom\u001b[39;00m \u001b[38;5;21;01mpgmpy\u001b[39;00m\u001b[38;5;21;01m.\u001b[39;00m\u001b[38;5;21;01mvisualization\u001b[39;00m \u001b[38;5;28;01mimport\u001b[39;00m plot_model\n\u001b[0;32m     26\u001b[0m \u001b[38;5;28;01mimport\u001b[39;00m \u001b[38;5;21;01mmatplotlib\u001b[39;00m\u001b[38;5;21;01m.\u001b[39;00m\u001b[38;5;21;01mpyplot\u001b[39;00m \u001b[38;5;28;01mas\u001b[39;00m \u001b[38;5;21;01mplt\u001b[39;00m\n\u001b[0;32m     28\u001b[0m plot_model(model)\n",
      "\u001b[1;31mModuleNotFoundError\u001b[0m: No module named 'pgmpy.visualization'"
     ]
    }
   ],
   "source": [
    "### Python Program Code\n",
    "\n",
    "import pandas as pd\n",
    "from pgmpy.models import BayesianModel\n",
    "from pgmpy.estimators import MaximumLikelihoodEstimator\n",
    "\n",
    "# Example dataset: Simple student model with variables Grade (G), Intelligence (I), and SAT (S)\n",
    "data = pd.DataFrame(data={'I': ['low', 'low', 'high', 'high'],\n",
    "                          'S': ['good', 'poor', 'good', 'poor'],\n",
    "                          'G': ['A', 'B', 'A', 'C']})\n",
    "\n",
    "# Constructing the Bayesian Network\n",
    "# Defining the structure with edges representing conditional dependencies\n",
    "model = BayesianModel([('I', 'G'), ('I', 'S'), ('G', 'S')])\n",
    "\n",
    "# Fitting the model using Maximum Likelihood Estimation\n",
    "model.fit(data, estimator=MaximumLikelihoodEstimator)\n",
    "\n",
    "# Output the constructed model parameters\n",
    "for cpd in model.get_cpds():\n",
    "    print(\"CPD of {0}:\".format(cpd.variable))\n",
    "    print(cpd)\n",
    "\n",
    "# Optional: visualize the network\n",
    "from pgmpy.visualization import plot_model\n",
    "import matplotlib.pyplot as plt\n",
    "\n",
    "plot_model(model)\n",
    "plt.show()"
   ]
  },
  {
   "cell_type": "code",
   "execution_count": 5,
   "id": "bca7aa0a",
   "metadata": {},
   "outputs": [
    {
     "name": "stderr",
     "output_type": "stream",
     "text": [
      "WARNING:pgmpy:BayesianModel has been renamed to BayesianNetwork. Please use BayesianNetwork class, BayesianModel will be removed in future.\n"
     ]
    },
    {
     "name": "stdout",
     "output_type": "stream",
     "text": [
      "CPD of I:\n",
      "+---------+-----+\n",
      "| I(high) | 0.5 |\n",
      "+---------+-----+\n",
      "| I(low)  | 0.5 |\n",
      "+---------+-----+\n",
      "CPD of G:\n",
      "+------+---------+--------+\n",
      "| I    | I(high) | I(low) |\n",
      "+------+---------+--------+\n",
      "| G(A) | 0.5     | 0.5    |\n",
      "+------+---------+--------+\n",
      "| G(B) | 0.0     | 0.5    |\n",
      "+------+---------+--------+\n",
      "| G(C) | 0.5     | 0.0    |\n",
      "+------+---------+--------+\n",
      "CPD of S:\n",
      "+---------+---------+--------+---------+--------+---------+--------+\n",
      "| G       | G(A)    | G(A)   | G(B)    | G(B)   | G(C)    | G(C)   |\n",
      "+---------+---------+--------+---------+--------+---------+--------+\n",
      "| I       | I(high) | I(low) | I(high) | I(low) | I(high) | I(low) |\n",
      "+---------+---------+--------+---------+--------+---------+--------+\n",
      "| S(good) | 1.0     | 1.0    | 0.5     | 0.0    | 0.0     | 0.5    |\n",
      "+---------+---------+--------+---------+--------+---------+--------+\n",
      "| S(poor) | 0.0     | 0.0    | 0.5     | 1.0    | 1.0     | 0.5    |\n",
      "+---------+---------+--------+---------+--------+---------+--------+\n"
     ]
    },
    {
     "ename": "TypeError",
     "evalue": "'_AxesStack' object is not callable",
     "output_type": "error",
     "traceback": [
      "\u001b[1;31m---------------------------------------------------------------------------\u001b[0m",
      "\u001b[1;31mTypeError\u001b[0m                                 Traceback (most recent call last)",
      "Cell \u001b[1;32mIn[5], line 27\u001b[0m\n\u001b[0;32m     25\u001b[0m G\u001b[38;5;241m.\u001b[39madd_edges_from(model\u001b[38;5;241m.\u001b[39medges())\n\u001b[0;32m     26\u001b[0m pos \u001b[38;5;241m=\u001b[39m nx\u001b[38;5;241m.\u001b[39mspring_layout(G)\n\u001b[1;32m---> 27\u001b[0m nx\u001b[38;5;241m.\u001b[39mdraw(G, pos, with_labels\u001b[38;5;241m=\u001b[39m\u001b[38;5;28;01mTrue\u001b[39;00m, node_size\u001b[38;5;241m=\u001b[39m\u001b[38;5;241m2000\u001b[39m, node_color\u001b[38;5;241m=\u001b[39m\u001b[38;5;124m'\u001b[39m\u001b[38;5;124mskyblue\u001b[39m\u001b[38;5;124m'\u001b[39m, font_size\u001b[38;5;241m=\u001b[39m\u001b[38;5;241m10\u001b[39m, font_color\u001b[38;5;241m=\u001b[39m\u001b[38;5;124m'\u001b[39m\u001b[38;5;124mblack\u001b[39m\u001b[38;5;124m'\u001b[39m)\n\u001b[0;32m     28\u001b[0m plt\u001b[38;5;241m.\u001b[39mtitle(\u001b[38;5;124m'\u001b[39m\u001b[38;5;124mBayesian Network Visualization\u001b[39m\u001b[38;5;124m'\u001b[39m)\n\u001b[0;32m     29\u001b[0m plt\u001b[38;5;241m.\u001b[39mshow()\n",
      "File \u001b[1;32mC:\\ProgramData\\anaconda3\\Lib\\site-packages\\networkx\\drawing\\nx_pylab.py:113\u001b[0m, in \u001b[0;36mdraw\u001b[1;34m(G, pos, ax, **kwds)\u001b[0m\n\u001b[0;32m    111\u001b[0m cf\u001b[38;5;241m.\u001b[39mset_facecolor(\u001b[38;5;124m\"\u001b[39m\u001b[38;5;124mw\u001b[39m\u001b[38;5;124m\"\u001b[39m)\n\u001b[0;32m    112\u001b[0m \u001b[38;5;28;01mif\u001b[39;00m ax \u001b[38;5;129;01mis\u001b[39;00m \u001b[38;5;28;01mNone\u001b[39;00m:\n\u001b[1;32m--> 113\u001b[0m     \u001b[38;5;28;01mif\u001b[39;00m cf\u001b[38;5;241m.\u001b[39m_axstack() \u001b[38;5;129;01mis\u001b[39;00m \u001b[38;5;28;01mNone\u001b[39;00m:\n\u001b[0;32m    114\u001b[0m         ax \u001b[38;5;241m=\u001b[39m cf\u001b[38;5;241m.\u001b[39madd_axes((\u001b[38;5;241m0\u001b[39m, \u001b[38;5;241m0\u001b[39m, \u001b[38;5;241m1\u001b[39m, \u001b[38;5;241m1\u001b[39m))\n\u001b[0;32m    115\u001b[0m     \u001b[38;5;28;01melse\u001b[39;00m:\n",
      "\u001b[1;31mTypeError\u001b[0m: '_AxesStack' object is not callable"
     ]
    },
    {
     "data": {
      "text/plain": [
       "<Figure size 640x480 with 0 Axes>"
      ]
     },
     "metadata": {},
     "output_type": "display_data"
    }
   ],
   "source": [
    "import pandas as pd\n",
    "from pgmpy.models import BayesianModel\n",
    "from pgmpy.estimators import MaximumLikelihoodEstimator\n",
    "import networkx as nx\n",
    "import matplotlib.pyplot as plt\n",
    "\n",
    "# Example dataset: Simple student model with variables Grade (G), Intelligence (I), and SAT (S)\n",
    "data = pd.DataFrame(data={'I': ['low', 'low', 'high', 'high'],\n",
    "                          'S': ['good', 'poor', 'good', 'poor'],\n",
    "                          'G': ['A', 'B', 'A', 'C']})\n",
    "\n",
    "# Constructing the Bayesian Network\n",
    "model = BayesianModel([('I', 'G'), ('I', 'S'), ('G', 'S')])\n",
    "\n",
    "# Fitting the model using Maximum Likelihood Estimation\n",
    "model.fit(data, estimator=MaximumLikelihoodEstimator)\n",
    "\n",
    "# Output the constructed model parameters\n",
    "for cpd in model.get_cpds():\n",
    "    print(\"CPD of {0}:\".format(cpd.variable))\n",
    "    print(cpd)\n",
    "\n",
    "# Visualize the network\n",
    "G = nx.DiGraph()\n",
    "G.add_edges_from(model.edges())\n",
    "pos = nx.spring_layout(G)\n",
    "nx.draw(G, pos, with_labels=True, node_size=2000, node_color='skyblue', font_size=10, font_color='black')\n",
    "plt.title('Bayesian Network Visualization')\n",
    "plt.show()"
   ]
  },
  {
   "cell_type": "code",
   "execution_count": 4,
   "id": "2830752a",
   "metadata": {},
   "outputs": [
    {
     "name": "stdout",
     "output_type": "stream",
     "text": [
      "Defaulting to user installation because normal site-packages is not writeable\n",
      "Requirement already satisfied: networkx in c:\\programdata\\anaconda3\\lib\\site-packages (2.8.4)\n",
      "Requirement already satisfied: matplotlib in c:\\programdata\\anaconda3\\lib\\site-packages (3.7.1)\n",
      "Requirement already satisfied: contourpy>=1.0.1 in c:\\programdata\\anaconda3\\lib\\site-packages (from matplotlib) (1.0.5)\n",
      "Requirement already satisfied: cycler>=0.10 in c:\\programdata\\anaconda3\\lib\\site-packages (from matplotlib) (0.11.0)\n",
      "Requirement already satisfied: fonttools>=4.22.0 in c:\\programdata\\anaconda3\\lib\\site-packages (from matplotlib) (4.25.0)\n",
      "Requirement already satisfied: kiwisolver>=1.0.1 in c:\\programdata\\anaconda3\\lib\\site-packages (from matplotlib) (1.4.4)\n",
      "Requirement already satisfied: numpy>=1.20 in c:\\programdata\\anaconda3\\lib\\site-packages (from matplotlib) (1.24.3)\n",
      "Requirement already satisfied: packaging>=20.0 in c:\\programdata\\anaconda3\\lib\\site-packages (from matplotlib) (23.0)\n",
      "Requirement already satisfied: pillow>=6.2.0 in c:\\programdata\\anaconda3\\lib\\site-packages (from matplotlib) (9.4.0)\n",
      "Requirement already satisfied: pyparsing>=2.3.1 in c:\\programdata\\anaconda3\\lib\\site-packages (from matplotlib) (3.0.9)\n",
      "Requirement already satisfied: python-dateutil>=2.7 in c:\\programdata\\anaconda3\\lib\\site-packages (from matplotlib) (2.8.2)\n",
      "Requirement already satisfied: six>=1.5 in c:\\programdata\\anaconda3\\lib\\site-packages (from python-dateutil>=2.7->matplotlib) (1.16.0)\n",
      "Note: you may need to restart the kernel to use updated packages.\n"
     ]
    }
   ],
   "source": [
    "pip install networkx matplotlib"
   ]
  },
  {
   "cell_type": "markdown",
   "id": "64692a7b",
   "metadata": {},
   "source": [
    "### Observations\n",
    "- The program will output the Conditional Probability Distributions (CPDs) for each variable in the Bayesian Network.\n",
    "- The visualization part (if executed) will show the structure of the Bayesian Network, helping to understand the conditional dependencies visually."
   ]
  },
  {
   "cell_type": "markdown",
   "id": "323a5985",
   "metadata": {},
   "source": [
    "### Conclusion\n",
    "Constructing a Bayesian Network from given data allows for the systematic analysis of variable dependencies and decision-making under uncertainty. This method is highly beneficial in fields requiring probabilistic reasoning and predictions based on observed data."
   ]
  },
  {
   "cell_type": "markdown",
   "id": "82f38182",
   "metadata": {},
   "source": [
    "### Applications\n",
    "- Diagnostic systems (e.g., medical diagnosis)\n",
    "- Recommendation systems\n",
    "- Risk assessment and management\n"
   ]
  }
 ],
 "metadata": {
  "kernelspec": {
   "display_name": "Python 3 (ipykernel)",
   "language": "python",
   "name": "python3"
  },
  "language_info": {
   "codemirror_mode": {
    "name": "ipython",
    "version": 3
   },
   "file_extension": ".py",
   "mimetype": "text/x-python",
   "name": "python",
   "nbconvert_exporter": "python",
   "pygments_lexer": "ipython3",
   "version": "3.11.3"
  }
 },
 "nbformat": 4,
 "nbformat_minor": 5
}
