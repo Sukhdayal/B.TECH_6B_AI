{
 "cells": [
  {
   "cell_type": "code",
   "execution_count": 16,
   "id": "d858a94f",
   "metadata": {},
   "outputs": [],
   "source": [
    "# Import necessary libraries\n",
    "import networkx as nx  # NetworkX is used to work with graphs in Python\n",
    "import matplotlib.pyplot as plt  # Matplotlib is used to visualize graphs\n",
    "from collections import deque  # deque is used for an efficient queue in BFS"
   ]
  },
  {
   "cell_type": "code",
   "execution_count": 17,
   "id": "da1e6e3c",
   "metadata": {},
   "outputs": [],
   "source": [
    "# Function to perform BFS (Breadth-First Search) traversal on a graph\n",
    "def bfs(graph, start):\n",
    "    visited = set()  # Create a set to keep track of visited nodes to avoid re-visiting\n",
    "    queue = deque([start])  # Create a queue and add the starting node to it\n",
    "    visited.add(start)  # Mark the starting node as visited\n",
    "\n",
    "    print(\"BFS Traversal Order:\", end=\" \")  # Print heading for BFS order\n",
    "\n",
    "    # While the queue is not empty, continue the BFS process\n",
    "    while queue:\n",
    "        node = queue.popleft()  # Dequeue a node from the front of the queue\n",
    "        print(node, end=\" \")  # Print the current node being processed\n",
    "\n",
    "        # Enqueue all unvisited neighbors of the current node\n",
    "        for neighbor in graph[node]:  # Go through all the neighbors of the current node\n",
    "            if neighbor not in visited:  # If the neighbor hasn't been visited yet\n",
    "                visited.add(neighbor)  # Mark the neighbor as visited\n",
    "                queue.append(neighbor)  # Add the neighbor to the queue for further exploration"
   ]
  },
  {
   "cell_type": "code",
   "execution_count": 19,
   "id": "7c44107a",
   "metadata": {},
   "outputs": [],
   "source": [
    "# Example graph as an adjacency list (dictionary)\n",
    "graph = {\n",
    "    1: [2, 3],  # Node 1 is connected to nodes 2 and 3\n",
    "    2: [1, 4, 5],  # Node 2 is connected to nodes 1, 4, and 5\n",
    "    3: [1, 6, 7],  # Node 3 is connected to nodes 1, 6, and 7\n",
    "    4: [2],  # Node 4 is connected to node 2\n",
    "    5: [2],  # Node 5 is connected to node 2\n",
    "    6: [3],  # Node 6 is connected to node 3\n",
    "    7: [3]   # Node 7 is connected to node 3\n",
    "}"
   ]
  },
  {
   "cell_type": "code",
   "execution_count": 21,
   "id": "14bffbe8",
   "metadata": {},
   "outputs": [],
   "source": [
    "# Create a graph object using NetworkX (a library to work with graphs)\n",
    "G = nx.Graph()  # Create an empty graph"
   ]
  },
  {
   "cell_type": "code",
   "execution_count": 23,
   "id": "caa2f916",
   "metadata": {},
   "outputs": [],
   "source": [
    "# Convert the adjacency list (graph) into a list of edges and add them to the NetworkX graph\n",
    "edges = [(node, neighbor) for node, neighbors in graph.items() for neighbor in neighbors]  # Create pairs of connected nodes (edges)\n",
    "G.add_edges_from(edges)  # Add all edges to the NetworkX graph"
   ]
  },
  {
   "cell_type": "code",
   "execution_count": 25,
   "id": "17788a10",
   "metadata": {},
   "outputs": [],
   "source": [
    "# Generate a layout for the graph to define the positions of the nodes\n",
    "# The spring_layout algorithm positions the nodes in a way that visually minimizes edge crossings\n",
    "pos = nx.spring_layout(G)"
   ]
  },
  {
   "cell_type": "code",
   "execution_count": 32,
   "id": "de826659",
   "metadata": {},
   "outputs": [
    {
     "data": {
      "image/png": "[encoded data removed]",
      "text/plain": [
       "<Figure size 800x600 with 1 Axes>"
      ]
     },
     "metadata": {},
     "output_type": "display_data"
    }
   ],
   "source": [
    "# Create a figure and axes for visualizing the graph using Matplotlib\n",
    "fig, ax = plt.subplots(figsize=(8, 6))  # Create a plot with a size of 8x6 inches\n",
    "\n",
    "# Draw the graph using the specified layout and node styles\n",
    "nx.draw(G, pos, with_labels=True, node_color='skyblue', font_weight='bold', font_size=10, node_size=2000, edge_color='gray', ax=ax)\n",
    "# `with_labels=True` makes sure node labels are visible\n",
    "# `node_color='skyblue'` sets the node color to light blue\n",
    "# `font_weight='bold'` makes the labels bold\n",
    "# `font_size=10` sets the size of the labels\n",
    "# `node_size=2000` increases the size of the nodes\n",
    "# `edge_color='gray'` sets the edge color to gray\n",
    "\n",
    "# Set a title for the graph in the plot\n",
    "ax.set_title(\"Graph Visualization\")\n",
    "\n",
    "# Display the graph\n",
    "plt.show()  # This will show the graph in a separate window"
   ]
  },
  {
   "cell_type": "code",
   "execution_count": 33,
   "id": "e539ede9",
   "metadata": {},
   "outputs": [
    {
     "name": "stdout",
     "output_type": "stream",
     "text": [
      "BFS Traversal Order: 1 2 3 4 5 6 7 "
     ]
    }
   ],
   "source": [
    "# Perform BFS starting from node 1 and print the BFS traversal order\n",
    "bfs(graph, 1)  # This will print the order of nodes visited in BFS starting from node 1"
   ]
  },
  {
   "cell_type": "code",
   "execution_count": null,
   "id": "c5e11131",
   "metadata": {},
   "outputs": [],
   "source": []
  },
  {
   "cell_type": "code",
   "execution_count": null,
   "id": "9a89bfdd",
   "metadata": {},
   "outputs": [],
   "source": []
  },
  {
   "cell_type": "code",
   "execution_count": null,
   "id": "05eb08c9",
   "metadata": {},
   "outputs": [],
   "source": []
  },
  {
   "cell_type": "code",
   "execution_count": null,
   "id": "be5549f9",
   "metadata": {},
   "outputs": [],
   "source": []
  },
  {
   "cell_type": "code",
   "execution_count": null,
   "id": "a29e0051",
   "metadata": {},
   "outputs": [],
   "source": []
  },
  {
   "cell_type": "code",
   "execution_count": null,
   "id": "ef4bf801",
   "metadata": {},
   "outputs": [],
   "source": []
  },
  {
   "cell_type": "code",
   "execution_count": null,
   "id": "75f31852",
   "metadata": {},
   "outputs": [],
   "source": []
  },
  {
   "cell_type": "code",
   "execution_count": null,
   "id": "215becd4",
   "metadata": {},
   "outputs": [],
   "source": []
  },
  {
   "cell_type": "code",
   "execution_count": null,
   "id": "f94dcd16",
   "metadata": {},
   "outputs": [],
   "source": []
  },
  {
   "cell_type": "code",
   "execution_count": null,
   "id": "9e6bf6cf",
   "metadata": {},
   "outputs": [],
   "source": []
  },
  {
   "cell_type": "code",
   "execution_count": null,
   "id": "6fc42114",
   "metadata": {},
   "outputs": [],
   "source": []
  }
 ],
 "metadata": {
  "kernelspec": {
   "display_name": "Python 3 (ipykernel)",
   "language": "python",
   "name": "python3"
  },
  "language_info": {
   "codemirror_mode": {
    "name": "ipython",
    "version": 3
   },
   "file_extension": ".py",
   "mimetype": "text/x-python",
   "name": "python",
   "nbconvert_exporter": "python",
   "pygments_lexer": "ipython3",
   "version": "3.11.3"
  }
 },
 "nbformat": 4,
 "nbformat_minor": 5
}
